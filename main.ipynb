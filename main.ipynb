{
 "cells": [
  {
   "cell_type": "code",
   "execution_count": 16,
   "metadata": {},
   "outputs": [],
   "source": [
    "import pandas as pd\n",
    "import numpy as np\n",
    "from numpy import linalg as LA\n",
    "import matplotlib.pyplot as plt"
   ]
  },
  {
   "cell_type": "code",
   "execution_count": 17,
   "metadata": {},
   "outputs": [],
   "source": [
    "n = 100"
   ]
  },
  {
   "cell_type": "code",
   "execution_count": 18,
   "metadata": {},
   "outputs": [],
   "source": [
    "flags = float(input(\"Flag = \"))\n",
    "sentiment = float(input(\"sentiment = \"))\n",
    "views = float(input(\"Views = \"))"
   ]
  },
  {
   "cell_type": "code",
   "execution_count": 19,
   "metadata": {},
   "outputs": [
    {
     "name": "stdout",
     "output_type": "stream",
     "text": [
      "70.0\n",
      "-0.7\n",
      "80.0\n"
     ]
    }
   ],
   "source": [
    "print(flags)\n",
    "print(sentiment)\n",
    "print(views)"
   ]
  },
  {
   "cell_type": "code",
   "execution_count": 20,
   "metadata": {},
   "outputs": [
    {
     "name": "stdout",
     "output_type": "stream",
     "text": [
      "0.5683635354043428\n"
     ]
    }
   ],
   "source": [
    "def f(F, S, V):\n",
    "    return 4*np.exp((F/V) - S)/np.square(1 + np.exp((F/V) - S))\n",
    "\n",
    "# print(f(flags,sentiment,views))\n",
    "print(f(50,))"
   ]
  }
 ],
 "metadata": {
  "kernelspec": {
   "display_name": "Python 3",
   "language": "python",
   "name": "python3"
  },
  "language_info": {
   "codemirror_mode": {
    "name": "ipython",
    "version": 3
   },
   "file_extension": ".py",
   "mimetype": "text/x-python",
   "name": "python",
   "nbconvert_exporter": "python",
   "pygments_lexer": "ipython3",
   "version": "3.9.4"
  },
  "orig_nbformat": 4,
  "vscode": {
   "interpreter": {
    "hash": "ba6adf4a79cae0a88128321b3b152338924ca32c1548ded4a220bdf78f457fcb"
   }
  }
 },
 "nbformat": 4,
 "nbformat_minor": 2
}
